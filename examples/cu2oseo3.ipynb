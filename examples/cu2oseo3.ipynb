{
 "cells": [
  {
   "cell_type": "code",
   "execution_count": 1,
   "metadata": {
    "collapsed": true
   },
   "outputs": [
    {
     "name": "stdout",
     "output_type": "stream",
     "text": [
      "|    |   symid | symop             | delta            | R             |    dist |   i | at1   |   j | at2   |   Heis. | DM         |\n",
      "|----|---------|-------------------|------------------|---------------|---------|-----|-------|-----|-------|---------|------------|\n",
      "|  0 |       0 | x, y, z           | [ 0.   0.5 -0.5] | [ 0. -1.  0.] | 6.29891 |   0 | Cu1   |   3 | Cu1   |       0 | [0. 0. 0.] |\n",
      "|  1 |       0 | -x, y+1/2, -z+1/2 | [ 0.  -0.5  0.5] | [-0. -0. -0.] | 6.29891 |   3 | Cu1   |   0 | Cu1   |       0 | [0. 0. 0.] |\n",
      "|  2 |       0 | y+1/2, -z+1/2, -x | [-0.5  0.5  0. ] | [0. 0. 0.]    | 6.29891 |   0 | Cu1   |   1 | Cu1   |       0 | [0. 0. 0.] |\n",
      "|  3 |       0 | z+1/2, -x+1/2, -y | [0.5 0.  0.5]    | [-1. -0. -0.] | 6.29891 |   2 | Cu1   |   0 | Cu1   |       0 | [0. 0. 0.] |\n",
      "|  4 |       0 | y, z, x           | [ 0.5 -0.5  0. ] | [-1. -0. -0.] | 6.29891 |   1 | Cu1   |   0 | Cu1   |       0 | [0. 0. 0.] |\n",
      "|  5 |       0 | -y, z+1/2, -x+1/2 | [0.5 0.5 0. ]    | [ 0. -1.  0.] | 6.29891 |   2 | Cu1   |   3 | Cu1   |       0 | [0. 0. 0.] |\n",
      "|  6 |       0 | -z+1/2, -x, y+1/2 | [ 0.5  0.  -0.5] | [0. 0. 0.]    | 6.29891 |   1 | Cu1   |   3 | Cu1   |       0 | [0. 0. 0.] |\n",
      "|  7 |       0 | -z, x+1/2, -y+1/2 | [-0.5  0.  -0.5] | [1. 0. 1.]    | 6.29891 |   0 | Cu1   |   2 | Cu1   |       0 | [0. 0. 0.] |\n",
      "|  8 |       0 | z, x, y           | [-0.5  0.   0.5] | [-0. -0. -1.] | 6.29891 |   3 | Cu1   |   1 | Cu1   |       0 | [0. 0. 0.] |\n",
      "|  9 |       0 | -x+1/2, -y, z+1/2 | [0.  0.5 0.5]    | [-0. -0. -1.] | 6.29891 |   2 | Cu1   |   1 | Cu1   |       0 | [0. 0. 0.] |\n",
      "| 10 |       0 | x+1/2, -y+1/2, -z | [ 0.  -0.5 -0.5] | [0. 1. 1.]    | 6.29891 |   1 | Cu1   |   2 | Cu1   |       0 | [0. 0. 0.] |\n",
      "| 11 |       0 | -y+1/2, -z, x+1/2 | [-0.5 -0.5  0. ] | [ 1.  1. -0.] | 6.29891 |   3 | Cu1   |   2 | Cu1   |       0 | [0. 0. 0.] |\n",
      "| 12 |       1 | x, y, z           | [0.5 0.5 0. ]    | [-1.  0.  0.] | 6.29891 |   2 | Cu1   |   3 | Cu1   |       0 | [0. 0. 0.] |\n",
      "| 13 |       1 | y+1/2, -z+1/2, -x | [-0.5  0.   0.5] | [ 1. -0. -0.] | 6.29891 |   3 | Cu1   |   1 | Cu1   |       0 | [0. 0. 0.] |\n",
      "| 14 |       1 | z, x, y           | [0.  0.5 0.5]    | [-0. -1. -0.] | 6.29891 |   2 | Cu1   |   1 | Cu1   |       0 | [0. 0. 0.] |\n",
      "| 15 |       1 | -x+1/2, -y, z+1/2 | [-0.5  0.5  0. ] | [ 1. -1.  0.] | 6.29891 |   0 | Cu1   |   1 | Cu1   |       0 | [0. 0. 0.] |\n",
      "| 16 |       1 | y, z, x           | [0.5 0.  0.5]    | [-0. -0. -1.] | 6.29891 |   2 | Cu1   |   0 | Cu1   |       0 | [0. 0. 0.] |\n",
      "| 17 |       1 | -z+1/2, -x, y+1/2 | [ 0.   0.5 -0.5] | [0. 0. 1.]    | 6.29891 |   0 | Cu1   |   3 | Cu1   |       0 | [0. 0. 0.] |\n",
      "| 18 |       1 | -y+1/2, -z, x+1/2 | [-0.5  0.  -0.5] | [0. 0. 0.]    | 6.29891 |   0 | Cu1   |   2 | Cu1   |       0 | [0. 0. 0.] |\n",
      "| 19 |       1 | -y, z+1/2, -x+1/2 | [ 0.5  0.  -0.5] | [-1.  0.  1.] | 6.29891 |   1 | Cu1   |   3 | Cu1   |       0 | [0. 0. 0.] |\n",
      "| 20 |       1 | z+1/2, -x+1/2, -y | [ 0.  -0.5  0.5] | [-0.  1. -1.] | 6.29891 |   3 | Cu1   |   0 | Cu1   |       0 | [0. 0. 0.] |\n",
      "| 21 |       1 | -x, y+1/2, -z+1/2 | [ 0.5 -0.5  0. ] | [-0.  1. -0.] | 6.29891 |   1 | Cu1   |   0 | Cu1   |       0 | [0. 0. 0.] |\n",
      "| 22 |       1 | -z, x+1/2, -y+1/2 | [ 0.  -0.5 -0.5] | [0. 0. 0.]    | 6.29891 |   1 | Cu1   |   2 | Cu1   |       0 | [0. 0. 0.] |\n",
      "| 23 |       1 | x+1/2, -y+1/2, -z | [-0.5 -0.5  0. ] | [-0. -0. -0.] | 6.29891 |   3 | Cu1   |   2 | Cu1   |       0 | [0. 0. 0.] |\n"
     ]
    }
   ],
   "source": [
    "import numpy as np\n",
    "from numpy.linalg import norm\n",
    "import matplotlib.pyplot as plt\n",
    "from pymatgen.core.structure import Structure\n",
    "from topwave.spinwave import Model, Spec\n",
    "\n",
    "# lattice parameters\n",
    "a = 8.908\n",
    "SG = 198\n",
    "lat = [[a, 0, 0], [0, a, 0], [0, 0, a]]\n",
    "\n",
    "# generate a pymatgen struc with all the magentic sites\n",
    "struc = Structure.from_spacegroup(SG, lat, ['Cu'], [[0., 0., 0.]])\n",
    "\n",
    "# Construct a Model instance\n",
    "model = Model(struc)\n",
    "model.generate_couplings(7, sg=198)\n",
    "\n",
    "# print the couplings\n",
    "model.show_couplings()"
   ]
  },
  {
   "cell_type": "code",
   "execution_count": 2,
   "outputs": [
    {
     "name": "stdout",
     "output_type": "stream",
     "text": [
      "|    |   symid | symop             | delta            | R             |    dist |   i | at1   |   j | at2   |   Heis. | DM               |\n",
      "|----|---------|-------------------|------------------|---------------|---------|-----|-------|-----|-------|---------|------------------|\n",
      "|  0 |       0 | x, y, z           | [ 0.   0.5 -0.5] | [ 0. -1.  0.] | 6.29891 |   0 | Cu1   |   3 | Cu1   |    -0.6 | [0. 0. 0.]       |\n",
      "|  1 |       0 | -x, y+1/2, -z+1/2 | [ 0.  -0.5  0.5] | [-0. -0. -0.] | 6.29891 |   3 | Cu1   |   0 | Cu1   |    -0.6 | [0. 0. 0.]       |\n",
      "|  2 |       0 | y+1/2, -z+1/2, -x | [-0.5  0.5  0. ] | [0. 0. 0.]    | 6.29891 |   0 | Cu1   |   1 | Cu1   |    -0.6 | [0. 0. 0.]       |\n",
      "|  3 |       0 | z+1/2, -x+1/2, -y | [0.5 0.  0.5]    | [-1. -0. -0.] | 6.29891 |   2 | Cu1   |   0 | Cu1   |    -0.6 | [0. 0. 0.]       |\n",
      "|  4 |       0 | y, z, x           | [ 0.5 -0.5  0. ] | [-1. -0. -0.] | 6.29891 |   1 | Cu1   |   0 | Cu1   |    -0.6 | [0. 0. 0.]       |\n",
      "|  5 |       0 | -y, z+1/2, -x+1/2 | [0.5 0.5 0. ]    | [ 0. -1.  0.] | 6.29891 |   2 | Cu1   |   3 | Cu1   |    -0.6 | [0. 0. 0.]       |\n",
      "|  6 |       0 | -z+1/2, -x, y+1/2 | [ 0.5  0.  -0.5] | [0. 0. 0.]    | 6.29891 |   1 | Cu1   |   3 | Cu1   |    -0.6 | [0. 0. 0.]       |\n",
      "|  7 |       0 | -z, x+1/2, -y+1/2 | [-0.5  0.  -0.5] | [1. 0. 1.]    | 6.29891 |   0 | Cu1   |   2 | Cu1   |    -0.6 | [0. 0. 0.]       |\n",
      "|  8 |       0 | z, x, y           | [-0.5  0.   0.5] | [-0. -0. -1.] | 6.29891 |   3 | Cu1   |   1 | Cu1   |    -0.6 | [0. 0. 0.]       |\n",
      "|  9 |       0 | -x+1/2, -y, z+1/2 | [0.  0.5 0.5]    | [-0. -0. -1.] | 6.29891 |   2 | Cu1   |   1 | Cu1   |    -0.6 | [0. 0. 0.]       |\n",
      "| 10 |       0 | x+1/2, -y+1/2, -z | [ 0.  -0.5 -0.5] | [0. 1. 1.]    | 6.29891 |   1 | Cu1   |   2 | Cu1   |    -0.6 | [0. 0. 0.]       |\n",
      "| 11 |       0 | -y+1/2, -z, x+1/2 | [-0.5 -0.5  0. ] | [ 1.  1. -0.] | 6.29891 |   3 | Cu1   |   2 | Cu1   |    -0.6 | [0. 0. 0.]       |\n",
      "| 12 |       1 | x, y, z           | [0.5 0.5 0. ]    | [-1.  0.  0.] | 6.29891 |   2 | Cu1   |   3 | Cu1   |    -0.9 | [0.5 0.  0. ]    |\n",
      "| 13 |       1 | y+1/2, -z+1/2, -x | [-0.5  0.   0.5] | [ 1. -0. -0.] | 6.29891 |   3 | Cu1   |   1 | Cu1   |    -0.9 | [ 0.   0.  -0.5] |\n",
      "| 14 |       1 | z, x, y           | [0.  0.5 0.5]    | [-0. -1. -0.] | 6.29891 |   2 | Cu1   |   1 | Cu1   |    -0.9 | [0.  0.5 0. ]    |\n",
      "| 15 |       1 | -x+1/2, -y, z+1/2 | [-0.5  0.5  0. ] | [ 1. -1.  0.] | 6.29891 |   0 | Cu1   |   1 | Cu1   |    -0.9 | [-0.5  0.   0. ] |\n",
      "| 16 |       1 | y, z, x           | [0.5 0.  0.5]    | [-0. -0. -1.] | 6.29891 |   2 | Cu1   |   0 | Cu1   |    -0.9 | [0.  0.  0.5]    |\n",
      "| 17 |       1 | -z+1/2, -x, y+1/2 | [ 0.   0.5 -0.5] | [0. 0. 1.]    | 6.29891 |   0 | Cu1   |   3 | Cu1   |    -0.9 | [ 0.  -0.5  0. ] |\n",
      "| 18 |       1 | -y+1/2, -z, x+1/2 | [-0.5  0.  -0.5] | [0. 0. 0.]    | 6.29891 |   0 | Cu1   |   2 | Cu1   |    -0.9 | [0.  0.  0.5]    |\n",
      "| 19 |       1 | -y, z+1/2, -x+1/2 | [ 0.5  0.  -0.5] | [-1.  0.  1.] | 6.29891 |   1 | Cu1   |   3 | Cu1   |    -0.9 | [ 0.   0.  -0.5] |\n",
      "| 20 |       1 | z+1/2, -x+1/2, -y | [ 0.  -0.5  0.5] | [-0.  1. -1.] | 6.29891 |   3 | Cu1   |   0 | Cu1   |    -0.9 | [ 0.  -0.5  0. ] |\n",
      "| 21 |       1 | -x, y+1/2, -z+1/2 | [ 0.5 -0.5  0. ] | [-0.  1. -0.] | 6.29891 |   1 | Cu1   |   0 | Cu1   |    -0.9 | [-0.5  0.   0. ] |\n",
      "| 22 |       1 | -z, x+1/2, -y+1/2 | [ 0.  -0.5 -0.5] | [0. 0. 0.]    | 6.29891 |   1 | Cu1   |   2 | Cu1   |    -0.9 | [0.  0.5 0. ]    |\n",
      "| 23 |       1 | x+1/2, -y+1/2, -z | [-0.5 -0.5  0. ] | [-0. -0. -0.] | 6.29891 |   3 | Cu1   |   2 | Cu1   |    -0.9 | [0.5 0.  0. ]    |\n"
     ]
    }
   ],
   "source": [
    "# assign exchanges to the two symmetrically distinct bonds that were found\n",
    "# assign two different Heisenberg exchanges based on the symmetry labels\n",
    "J1 = -0.6\n",
    "J2 = -0.9\n",
    "D1 = [0, 0, 0]\n",
    "D2 = [0.5, 0, 0]\n",
    "\n",
    "model.assign_exchange(J1, 0)\n",
    "model.assign_exchange(J2, 1)\n",
    "\n",
    "model.assign_DM(D1, 0)\n",
    "model.assign_DM(D2, 1)\n",
    "\n",
    "model.show_couplings()"
   ],
   "metadata": {
    "collapsed": false,
    "pycharm": {
     "name": "#%%\n"
    }
   }
  },
  {
   "cell_type": "code",
   "execution_count": 3,
   "outputs": [
    {
     "data": {
      "text/plain": "(0.0, 11.615320944480137)"
     },
     "execution_count": 3,
     "metadata": {},
     "output_type": "execute_result"
    },
    {
     "data": {
      "text/plain": "<Figure size 432x288 with 1 Axes>",
      "image/png": "[encoded data removed]"
     },
     "metadata": {
      "needs_background": "light"
     },
     "output_type": "display_data"
    }
   ],
   "source": [
    "# select a ferromagntic groundstate and external magnetic field in the same direction\n",
    "h = 0.2\n",
    "B = [1, 1, 0]\n",
    "from numpy.linalg import norm\n",
    "\n",
    "ext_field = h * (B / norm(B))\n",
    "model.external_field(ext_field)\n",
    "ground_state = [B / norm(B)] * model.N\n",
    "model.magnetize(ground_state)\n",
    "\n",
    "# parameterize a path through k-space and plot the spectrum\n",
    "ks = np.linspace([0.5, 0.5, 0.0], [0.5, 0.5, 0.5], 101)\n",
    "\n",
    "spec = Spec(model, ks)\n",
    "\n",
    "fig, ax = plt.subplots()\n",
    "for band in spec.E.T:\n",
    "    ax.plot(band, c='k')\n",
    "ymin, ymax = ax.get_ylim()\n",
    "ax.set_ylim([0., ymax])\n",
    "\n"
   ],
   "metadata": {
    "collapsed": false,
    "pycharm": {
     "name": "#%%\n"
    }
   }
  },
  {
   "cell_type": "code",
   "execution_count": null,
   "outputs": [],
   "source": [],
   "metadata": {
    "collapsed": false,
    "pycharm": {
     "name": "#%%\n"
    }
   }
  }
 ],
 "metadata": {
  "kernelspec": {
   "display_name": "Python 3",
   "language": "python",
   "name": "python3"
  },
  "language_info": {
   "codemirror_mode": {
    "name": "ipython",
    "version": 2
   },
   "file_extension": ".py",
   "mimetype": "text/x-python",
   "name": "python",
   "nbconvert_exporter": "python",
   "pygments_lexer": "ipython2",
   "version": "2.7.6"
  }
 },
 "nbformat": 4,
 "nbformat_minor": 0
}